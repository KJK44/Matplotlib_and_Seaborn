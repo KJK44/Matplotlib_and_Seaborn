{
 "cells": [
  {
   "cell_type": "code",
   "execution_count": 31,
   "metadata": {},
   "outputs": [
    {
     "data": {
      "text/plain": [
       "'# To install all dash components :\\n!pip install dash\\n!pip install dash-renderer\\n!pip install dash_html_components\\n!pip install dash_core_components\\n\\n# help(html.Div)\\n# help(dcc.Dropdown)\\n\\n'"
      ]
     },
     "execution_count": 31,
     "metadata": {},
     "output_type": "execute_result"
    }
   ],
   "source": [
    "'''# To install all dash components :\n",
    "!pip install dash\n",
    "!pip install dash-renderer\n",
    "!pip install dash_html_components\n",
    "!pip install dash_core_components\n",
    "\n",
    "# help(html.Div)\n",
    "# help(dcc.Dropdown)\n",
    "\n",
    "'''"
   ]
  },
  {
   "cell_type": "code",
   "execution_count": 5,
   "metadata": {},
   "outputs": [],
   "source": [
    "import dash\n",
    "import dash_core_components as dcc\n",
    "import dash_html_components as html"
   ]
  },
  {
   "cell_type": "markdown",
   "metadata": {},
   "source": [
    "**Defining Basic Layout :**"
   ]
  },
  {
   "cell_type": "code",
   "execution_count": 20,
   "metadata": {},
   "outputs": [],
   "source": [
    "app = dash.Dash()"
   ]
  },
  {
   "cell_type": "code",
   "execution_count": 50,
   "metadata": {},
   "outputs": [],
   "source": [
    "colors={\n",
    "'text' : 'black',\n",
    "'plot':'grey',\n",
    "'paper':'aqua'\n",
    "}"
   ]
  },
  {
   "cell_type": "code",
   "execution_count": 56,
   "metadata": {
    "scrolled": true
   },
   "outputs": [],
   "source": [
    "# layout - similar to html containers\n",
    "app.layout = html.Div([\n",
    "    html.H1(children = \"Hello Dash!!!\",\n",
    "            style={\n",
    "                'textAlign':'center',\n",
    "                'color': colors['text']\n",
    "                  }           \n",
    "           \n",
    "           ),         # H1 : This  is header\n",
    "    html.Div(children = \"Dash - A data product development framework from plotly\",\n",
    "             style={\n",
    "                'textAlign':'center',\n",
    "                'color':colors['text']\n",
    "                   }\n",
    "            ),\n",
    "    \n",
    "    dcc.Graph(\n",
    "        id='sample-graph',\n",
    "        figure={\n",
    "             'data' :[\n",
    "                 {'x':[5,6,7],'y':[12,15,18],'type':'bar','name':'First Chart'},\n",
    "                 {'x':[5,6,7],'y':[22,24,20],'type':'bar','name':'Second Chart'}\n",
    "                     ],    # By changing 'type' parameter you can generate different kinds of charts.\n",
    "             'layout':{\n",
    "                 'title':'Simple Bar Chart',\n",
    "                 'xaxis':{'title':'X-check'},\n",
    "                 'yaxis':{'title':'Y-check'},\n",
    "                 'plot_bgcolor':colors['plot'],\n",
    "                 'paper_bgcolor':colors['paper'],\n",
    "                 'font':{\n",
    "                        'color':'black',\n",
    "                        'size':12\n",
    "                        } #font\n",
    "                      } #layout\n",
    "               } #figure\n",
    "             )# dcc.Graph\n",
    "    \n",
    "    ])\n"
   ]
  },
  {
   "cell_type": "code",
   "execution_count": null,
   "metadata": {},
   "outputs": [
    {
     "name": "stdout",
     "output_type": "stream",
     "text": [
      "Dash is running on http://127.0.0.1:8050/\n",
      "\n",
      "Dash is running on http://127.0.0.1:8050/\n",
      "\n",
      " Warning: This is a development server. Do not use app.run_server\n",
      " Warning: This is a development server. Do not use app.run_server\n",
      " in production, use a production WSGI server like gunicorn instead.\n",
      "\n",
      " in production, use a production WSGI server like gunicorn instead.\n",
      "\n",
      " * Serving Flask app \"__main__\" (lazy loading)\n",
      " * Environment: production\n",
      "   WARNING: This is a development server. Do not use it in a production deployment.\n",
      "   Use a production WSGI server instead.\n",
      " * Debug mode: off\n"
     ]
    },
    {
     "name": "stderr",
     "output_type": "stream",
     "text": [
      " * Running on http://127.0.0.1:8050/ (Press CTRL+C to quit)\n",
      "127.0.0.1 - - [04/Jul/2020 23:02:13] \"\u001b[37mGET / HTTP/1.1\u001b[0m\" 200 -\n",
      "127.0.0.1 - - [04/Jul/2020 23:02:14] \"\u001b[37mGET /_dash-layout HTTP/1.1\u001b[0m\" 200 -\n",
      "127.0.0.1 - - [04/Jul/2020 23:02:14] \"\u001b[37mGET /_dash-dependencies HTTP/1.1\u001b[0m\" 200 -\n"
     ]
    }
   ],
   "source": [
    "if __name__ == '__main__':\n",
    "    app.run_server(port=8050) #8050 is default. yoou can change the port number."
   ]
  },
  {
   "cell_type": "code",
   "execution_count": null,
   "metadata": {},
   "outputs": [],
   "source": []
  }
 ],
 "metadata": {
  "kernelspec": {
   "display_name": "Python 3",
   "language": "python",
   "name": "python3"
  },
  "language_info": {
   "codemirror_mode": {
    "name": "ipython",
    "version": 3
   },
   "file_extension": ".py",
   "mimetype": "text/x-python",
   "name": "python",
   "nbconvert_exporter": "python",
   "pygments_lexer": "ipython3",
   "version": "3.7.3"
  }
 },
 "nbformat": 4,
 "nbformat_minor": 2
}
